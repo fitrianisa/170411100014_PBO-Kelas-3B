{
 "cells": [
  {
   "cell_type": "markdown",
   "metadata": {},
   "source": [
    "# Class dan Objek\n"
   ]
  },
  {
   "cell_type": "raw",
   "metadata": {},
   "source": [
    "1. Class Merupakan Struktur data yang bisa kita gunakan untuk mendefinisikan objek yang menyimpan data bersama-sama nilai-nilai dan perilaku (behavior). Kelas adalah suatu entitas yang merupakan bentuk program dari suatu abstraksi untuk permasalahan dunia nyata, dan instans dari class merupakan realisasi dari beberapa objek. contoh kelas : binatang, kendaraan, benda dsb.\n",
    "2. objek merupakan Instance dari class. Jika class secara umum merepresentasikan (template) sebuah object, maka sebuah instance adalah representasi nyata dari class itu sendiri.\n",
    "3. pada dasarnya ada 2 karakteristik yang utama pada sebuah objek :\n",
    "Objek memiliki attribut sebagai status yang disebut Stat\n",
    "Objek memiliki tingkahlaku yang kemudian disebut Method\n",
    "4. keyword class diikuti dengan nama class yang kita inginkan. Lebih baik digunakan kata yang diawali huruf kapital.\n",
    "5. Setiap method harus memiliki parameter self yang artinya method tersebut dimiliki dan terdaftar ke class tersebut untuk membedakan dari method atau fungsi yang ada di luar class"
   ]
  },
  {
   "cell_type": "code",
   "execution_count": 1,
   "metadata": {},
   "outputs": [
    {
     "name": "stdout",
     "output_type": "stream",
     "text": [
      "4\n",
      "luas= 16\n",
      "volue= 64\n",
      "luas permukaan= 24\n"
     ]
    }
   ],
   "source": [
    "class kubus:\n",
    "    def __init__(self,s): #constructor menggunakan method bawaan Python yang bernama init \n",
    "        self.sisi = s\n",
    "             \n",
    "    def tampilkansisi(self):\n",
    "        print(self.sisi)\n",
    "    \n",
    "    def luas(self):\n",
    "        print(\"luas=\", self.sisi **2)\n",
    "    def volume(self):\n",
    "        print(\"volue=\", self.sisi**3)\n",
    "    def luas_permukaan(self):\n",
    "        print (\"luas permukaan=\", self.sisi*6)\n",
    "        \n",
    "kubus1=kubus(4)\n",
    "kubus1.tampilkansisi()\n",
    "kubus1.luas()\n",
    "kubus1.volume()\n",
    "kubus1.luas_permukaan()"
   ]
  },
  {
   "cell_type": "code",
   "execution_count": 2,
   "metadata": {},
   "outputs": [
    {
     "name": "stdout",
     "output_type": "stream",
     "text": [
      "nama: fitri \n",
      "nim: 1234556\n",
      "nama: anisa \n",
      "nim: 19990422\n"
     ]
    }
   ],
   "source": [
    "class orang: \n",
    "    def __init__(self,nama,nim):\n",
    "        self.nm = nama\n",
    "        self.np = nim\n",
    "    def tampilkan(self):\n",
    "        print (\"nama:\", self.nm,\"\\nnim:\", self.np)\n",
    "class mahasiswa(orang):\n",
    "    pass\n",
    "\n",
    "orang=orang(\"fitri\", \"1234556\")\n",
    "orang.tampilkan()\n",
    "\n",
    "fitri=mahasiswa(\"anisa\",\"19990422\")\n",
    "fitri.tampilkan()"
   ]
  },
  {
   "cell_type": "code",
   "execution_count": 4,
   "metadata": {},
   "outputs": [
    {
     "name": "stdout",
     "output_type": "stream",
     "text": [
      "NIM :  170411100014 \n",
      "Nama :  Fitri Anisa \n",
      "IPK :  4.0\n",
      "cumloude\n"
     ]
    }
   ],
   "source": [
    "class mahasiswa:\n",
    "    def __init__(self,npm,nm,ipk):\n",
    "        self.NIM=npm\n",
    "        self.nama=nm\n",
    "        self.IPK=ipk\n",
    "    def tampilkan(self):\n",
    "        print(\"NIM : \", self.NIM, \"\\nNama : \", self.nama, \"\\nIPK : \", self.IPK)\n",
    "    def predikat(self):\n",
    "        if self.IPK >= 3.5:\n",
    "            print(\"cumloude\")\n",
    "        elif self.IPK < 3.5 :\n",
    "            print (\"samgat memuaskan\")\n",
    "        elif self.IPK <= 3.5 :\n",
    "            print (\"cukup\")\n",
    "mhs1=mahasiswa(\"170411100014\", \"Fitri Anisa\", 4.0)\n",
    "mhs1.tampilkan()\n",
    "mhs1.predikat()"
   ]
  },
  {
   "cell_type": "code",
   "execution_count": 5,
   "metadata": {},
   "outputs": [
    {
     "name": "stdout",
     "output_type": "stream",
     "text": [
      "Nomer Nasabah: 1 Nama Nasabah: Fitri Anisa Rekening Nasabah: 170411100014\n",
      "ambil uang senilai : 50000\n",
      "jumlah penarikan 50000 sisa 50000\n",
      "menyetor sebesar : 50000\n",
      "jumlah setoran 50000 sisa 100000\n",
      "saldo 100000\n"
     ]
    }
   ],
   "source": [
    "class nasabah:\n",
    "    def __init__ (self,no,nm,rek):\n",
    "        self.NoNasabah=no\n",
    "        self.NamaNasabah=nm\n",
    "        self.NomerRek=rek\n",
    "    def tampilkan(self):\n",
    "        print (\"Nomer Nasabah:\", self.NoNasabah, \"Nama Nasabah:\", self.NamaNasabah, \"Rekening Nasabah:\", self.NomerRek)\n",
    "class rekening():\n",
    "    def __init__ (self,rek,sal):\n",
    "        self.rekeninh=rek\n",
    "        self.saldo=sal\n",
    "    def ambil(self):\n",
    "        ambil_uang=int(input(\"ambil uang senilai : \"))\n",
    "        hasil=self.saldo-ambil_uang\n",
    "        self.saldo = hasil\n",
    "        print (\"jumlah penarikan\", ambil_uang, \"sisa\", hasil)\n",
    "    def setor(self):\n",
    "        setor_uang=int(input(\"menyetor sebesar : \"))\n",
    "        hasil=self.saldo+setor_uang\n",
    "        self.saldo = hasil\n",
    "        print(\"jumlah setoran\", setor_uang, \"sisa\",hasil)\n",
    "    def cek_saldo(self):\n",
    "        print (\"saldo\", self.saldo)\n",
    "        \n",
    "fitri=nasabah(\"1\", \"Fitri Anisa\",\"170411100014\")\n",
    "fitri.tampilkan() \n",
    "\n",
    "fitri_rek=rekening(\"170411100014\", 100000)\n",
    "fitri_rek.ambil()\n",
    "fitri_rek.setor()\n",
    "fitri_rek.cek_saldo()"
   ]
  },
  {
   "cell_type": "markdown",
   "metadata": {},
   "source": [
    "# Inheritance\n"
   ]
  },
  {
   "cell_type": "raw",
   "metadata": {},
   "source": [
    "1. Inheritance merupakan konsep mewariskan attribute dan method yang dimiliki oleh sebuah class kepada class turunannya. Dengan konsep ini class yang dibuat cukup mendefinisikan attribute dan method yang spesifik didalamnya, sedangkan attribute dan method yang lebih umum akan didapatkan dari class yang menjadi induknya\n",
    "2. ISTILAH INHERITANCE :\n",
    "    - Extends : ini adalah keyword agar sebuah class menjadi subclass.\n",
    "    - Superclass : Menunjukkan class yang berarti parent class dari subclass/class anak.\n",
    "    - Subclass : adalah class anak atau turunan dari superclass/parent class.\n",
    "    - Super Keyword : untuk memanggil konstruktor dari superclass atau menjadi variabel yang mengacu pada superclass.\n",
    "    - Methode Overriding : Pendefinisian ulang method yang sama pada subclass"
   ]
  },
  {
   "cell_type": "code",
   "execution_count": 2,
   "metadata": {},
   "outputs": [
    {
     "name": "stdout",
     "output_type": "stream",
     "text": [
      "Object orang tua telah dibuat\n",
      "Object anak telah dibuat\n",
      "Orang tua berkata : Wahai anakku Ali Rama ...\n",
      "Iya ayahanda tercinta ...\n"
     ]
    }
   ],
   "source": [
    "class OrangTua(object):\n",
    "    def __init__(self):\n",
    "        print (\"Object orang tua telah dibuat\")\n",
    " \n",
    "    def berkata(self, nama_anak):\n",
    "        print (\"Orang tua berkata : Wahai anakku %s ...\" % nama_anak)\n",
    " \n",
    "class Anak(OrangTua):\n",
    "    def __init__(self):\n",
    "        super(Anak, self).__init__()\n",
    "        print (\"Object anak telah dibuat\")\n",
    " \n",
    "    def berkata(self, sifat_ayah):\n",
    "        OrangTua.berkata(self, 'Ali Rama')\n",
    "        print (\"Iya ayahanda %s ...\" % sifat_ayah)\n",
    " \n",
    "anak = Anak()\n",
    "anak.berkata('tercinta')"
   ]
  },
  {
   "cell_type": "code",
   "execution_count": 6,
   "metadata": {},
   "outputs": [
    {
     "name": "stdout",
     "output_type": "stream",
     "text": [
      "Name = brian\n",
      "Name = diana\n",
      "programming Python\n"
     ]
    }
   ],
   "source": [
    "class User:\n",
    "    \n",
    "    def __init__(self,name):\n",
    "        self.name = name\n",
    "    def printName(self):\n",
    "        print(\"Name = \" + self.name)\n",
    "    \n",
    "class programmer(User): #inheritance superClass-1 (untuk memaggil print name bukan hanya muncul last name saja\n",
    "    def __init__(self,lastname):\n",
    "        self.lastname = lastname\n",
    "    def printlastName (self):\n",
    "        print(\"Name = \" + self.lastname)\n",
    "    def doPython (self):\n",
    "        print(\"programming Python\")\n",
    "        \n",
    "class programmer1(User):\n",
    "    pass\n",
    "\n",
    "user = User(\"brian\")\n",
    "user.printName()\n",
    "\n",
    "diana = programmer(\"diana\")\n",
    "diana.printlastName()\n",
    "diana.doPython() "
   ]
  },
  {
   "cell_type": "code",
   "execution_count": 7,
   "metadata": {},
   "outputs": [
    {
     "name": "stdout",
     "output_type": "stream",
     "text": [
      "TerryFish\n",
      "bone\n",
      "False\n",
      "The fish is swiming\n",
      "The fish can swim backwards\n",
      "TerrySFish\n",
      "no bone\n",
      "True\n"
     ]
    }
   ],
   "source": [
    "class Fish :\n",
    "    def __init__(self,firstname, lastname= \"Fish\",\n",
    "                skeleton =\"bone\", eyelids= False):\n",
    "        self.firstname = firstname\n",
    "        self.lastname = lastname\n",
    "        self.skeleton = skeleton\n",
    "        self.eyelids = eyelids\n",
    "    def swim(self):\n",
    "        print (\"The fish is swiming\")\n",
    "    def swim_backwards(self):\n",
    "        print (\"The fish can swim backwards\")\n",
    "\n",
    "class Trout(Fish):\n",
    "    pass\n",
    "\n",
    "class Clownfish(Fish):\n",
    "    def live_with_anemone(self):\n",
    "        print (\"The clownfish is coexisting with sea anemoene\")\n",
    "\n",
    "terry = Trout(\"Terry\")\n",
    "print (terry.firstname+\"\"+terry.lastname)\n",
    "print (terry.skeleton)\n",
    "print (terry.eyelids)\n",
    "terry.swim()\n",
    "terry.swim_backwards()\n",
    "\n",
    "terry1=Trout(\"TerryS\", \"SmallFish\", \"no bone\", True)\n",
    "print (terry1.firstname+\"\"+terry.lastname)\n",
    "print(terry1.skeleton)\n",
    "print(terry1.eyelids)"
   ]
  },
  {
   "cell_type": "code",
   "execution_count": 8,
   "metadata": {},
   "outputs": [
    {
     "name": "stdout",
     "output_type": "stream",
     "text": [
      "____________nama orang____________\n",
      "nama :  FItri\n",
      "____________data mahasiswa____________\n",
      "nama mahasiswa :  FItri\n",
      "NIM :  170411100006\n",
      "Anda semester  3\n",
      "____________data pegawai____________\n",
      "Nama pegawai :  FItri\n",
      "NIP :  12345678\n",
      "____________nama dosen____________\n",
      "Nama dosen :  FItri\n",
      "NIP :  12345678\n",
      "NIDN :  12345\n",
      "____________nama karyawan____________\n",
      "Nama pegawai :  FItri\n",
      "NIP :  1234565768798\n"
     ]
    }
   ],
   "source": [
    "class orang:\n",
    "    def __init__(self,Nama):\n",
    "        self.nama=Nama\n",
    "    def printnama(self):\n",
    "        print(\"nama : \", self.nama)\n",
    "class mahasiswa(orang):\n",
    "    def __init__(self,NIM,angkatan):\n",
    "        self.nim=NIM\n",
    "        self.akt=angkatan\n",
    "    def printnama(self):\n",
    "        print (\"nama mahasiswa : \", orang.nama)\n",
    "    def printNIM(self):\n",
    "        print (\"NIM : \",self.nim)\n",
    "    def semester (self):\n",
    "        x = 18\n",
    "        hasil = x-self.akt\n",
    "        y=hasil*3\n",
    "        print(\"Anda semester \", y)\n",
    "class pegawai (orang):\n",
    "    def __init__(self,NIP):\n",
    "        self.np=NIP\n",
    "    def printname(self):\n",
    "        print(\"Nama pegawai : \", orang.nama)\n",
    "    def printNIP(self):\n",
    "        print(\"NIP : \", self.np)\n",
    "class dosen(pegawai):\n",
    "    def __init__(self,NIDN):\n",
    "        self.nid=NIDN\n",
    "    def printname(self):\n",
    "        print (\"Nama dosen : \", orang.nama)\n",
    "    def printNIP(self):\n",
    "        print(\"NIP : \", pegawai.np)\n",
    "    def printnidn(self):\n",
    "        print (\"NIDN : \", self.nid)\n",
    "class karyawan(pegawai):\n",
    "    pass\n",
    "\n",
    "print (\"____________nama orang____________\")\n",
    "orang=orang(\"FItri\")\n",
    "orang.printnama()\n",
    "print (\"____________data mahasiswa____________\")\n",
    "mahasiswa=mahasiswa(\"170411100006\",17)\n",
    "mahasiswa.printnama()\n",
    "mahasiswa.printNIM()\n",
    "mahasiswa.semester()\n",
    "print(\"____________data pegawai____________\")\n",
    "pegawai=pegawai(\"12345678\")\n",
    "pegawai.printname()\n",
    "pegawai.printNIP()\n",
    "print(\"____________nama dosen____________\")\n",
    "dosen=dosen(\"12345\")\n",
    "dosen.printname()\n",
    "dosen.printNIP()\n",
    "dosen.printnidn()\n",
    "print(\"____________nama karyawan____________\")\n",
    "karyawan=karyawan(\"1234565768798\")\n",
    "karyawan.printname()\n",
    "karyawan.printNIP()"
   ]
  },
  {
   "cell_type": "markdown",
   "metadata": {},
   "source": [
    "# Type of Inheritance\n",
    "\n",
    "defult ini menggunakan properti dan method yang ada di current class"
   ]
  },
  {
   "cell_type": "markdown",
   "metadata": {},
   "source": [
    "# Overriding\n",
    "defult dapat menambah atribut pada kelas induknya (sifat dari anak dapat di modifikasi)"
   ]
  },
  {
   "cell_type": "code",
   "execution_count": 9,
   "metadata": {},
   "outputs": [
    {
     "name": "stdout",
     "output_type": "stream",
     "text": [
      "The fish can swim backwards\n"
     ]
    }
   ],
   "source": [
    "class Fish :\n",
    "    def __init__(self,first_name, last_name= \"Fish\",skeleton =\"bone\", eyelids= False):\n",
    "        self.first_name = first_name\n",
    "        self.last_name = last_name\n",
    "        self.skeleton = skeleton\n",
    "        self.eyelids = eyelids\n",
    "    def swim(self):\n",
    "        print (\"The fish is swiming\")\n",
    "    def swim_backwards(self):\n",
    "        print (\"The fish can swim backwards\")\n",
    "        \n",
    "class shark(Fish):\n",
    "    def __init__(self,first_name, last_name= \"Shark\",skeleton =\"cartilage\", eyelids= False):\n",
    "        self.first_name = first_name\n",
    "        self.last_name = last_name\n",
    "        self.skeleton = skeleton\n",
    "        self.eyelids = eyelids\n",
    "    def swim_backwards(self):\n",
    "        print(\"The sark cannot swim backwards, but can sink backwards.\")\n",
    "\n",
    "hiu = Fish (\"hiu besar\")\n",
    "hiu.swim_backwards()"
   ]
  },
  {
   "cell_type": "code",
   "execution_count": 10,
   "metadata": {},
   "outputs": [
    {
     "name": "stdout",
     "output_type": "stream",
     "text": [
      "jumlah sisi =  4\n",
      "Bentuk =  persegi\n",
      "persegi memiliki 4 bentuk sisi\n",
      "jumlah sisi =  4\n",
      "Bentuk =  persegi panjang\n",
      "persegi panjang memiliki panjang dan lebar\n",
      "jumlah sisi =  4\n",
      "Bentuk =  bujur sangkar\n",
      "keempatnya memiliki panjang yang sama bentuknya\n"
     ]
    }
   ],
   "source": [
    "class persegi:\n",
    "    def __init__(self,sisi=4,bentuk='persegi'):\n",
    "        self.sisi = sisi\n",
    "        self.bentuk = bentuk\n",
    "    def display (self): \n",
    "        print (\"jumlah sisi = \", self.sisi)\n",
    "        print (\"Bentuk = \", self.bentuk)\n",
    "    def deskripsi (self):\n",
    "        print (\"persegi memiliki 4 bentuk sisi\")\n",
    "\n",
    "class persegiPanjang(persegi):\n",
    "    def __init__(self,sisi=4,bentuk=\"persegi panjang\"):\n",
    "        self.sisi = sisi \n",
    "        self.bentuk = bentuk\n",
    "    def deskripsi (self):\n",
    "        print (\"persegi panjang memiliki panjang dan lebar\")\n",
    "        \n",
    "class bujur_sangkar(persegi):\n",
    "    def __init__(self,sisi=4,bentuk=\"bujur sangkar\"):\n",
    "        self.sisi=sisi\n",
    "        self.bentuk=bentuk\n",
    "    def deskripsi(self):\n",
    "        print(\"keempatnya memiliki panjang yang sama bentuknya\")\n",
    "\n",
    "n=persegi()\n",
    "n.display()\n",
    "n.deskripsi()\n",
    "n=persegiPanjang()\n",
    "n.display()\n",
    "n.deskripsi()\n",
    "n=bujur_sangkar()\n",
    "n.display()\n",
    "n.deskripsi()"
   ]
  },
  {
   "cell_type": "markdown",
   "metadata": {},
   "source": [
    "# Super Class\n",
    "dipakai jika membutuhkan properti khusus atau properti yang beda dengan induknya (jika atribut di anak ada yang tidak spesifik maka harus menambahkan atribut di kelas induk)"
   ]
  },
  {
   "cell_type": "code",
   "execution_count": 11,
   "metadata": {},
   "outputs": [
    {
     "name": "stdout",
     "output_type": "stream",
     "text": [
      "Nama :  Fitri Dhea\n",
      "Nama mahasiswa :  Fitri Dhea\n",
      "NIM : 1704111100014\n",
      "Semester Anda :  3\n",
      "Nama pegawai :  teguh\n",
      "NIP : 140411100006\n",
      "Nama dosen :  teguh\n",
      "NIP :  123345555\n",
      "NIDN : 12345678\n",
      "Nama pegawai :  teguh\n",
      "NIP : 1234567890\n"
     ]
    }
   ],
   "source": [
    "class orang:\n",
    "    def __init__(self,Nama):\n",
    "        self.nama=Nama\n",
    "    def printnama(self):\n",
    "        print('Nama : ', self.nama)\n",
    "class mahasiswa (orang):\n",
    "    def __init__(self,NIM,angkatan):\n",
    "        self.nim=NIM\n",
    "        self.akt=angkatan\n",
    "        super().__init__(\"orang\")\n",
    "    def printname(self):\n",
    "        print('Nama mahasiswa : ', orang.nama)\n",
    "    def printNIM(self):\n",
    "        print('NIM : '+ self.nim)\n",
    "    def htgsemester(self):\n",
    "        x=18\n",
    "        hasil=x-self.akt\n",
    "        y=hasil*3\n",
    "        print('Semester Anda : ',y)\n",
    "class pegawai (orang):\n",
    "    def __init__(self,NIP):\n",
    "        self.np=NIP\n",
    "        super().__init__(\"teguh\")\n",
    "    def printname(self):\n",
    "        print('Nama pegawai : ',pegawai.nama)\n",
    "    def printNIP (self):\n",
    "        print('NIP : '+ self.np)\n",
    "class dosen(pegawai):\n",
    "    def __init__(self,NIDN):\n",
    "        self.nid=NIDN\n",
    "        super().__init__(\"123345555\")\n",
    "    def printname(self):\n",
    "        print('Nama dosen : ',dosen.nama)\n",
    "    def printNIP (self):\n",
    "        print('NIP : ',dosen.np)\n",
    "    def printnidn(self):\n",
    "        print('NIDN : '+ self.nid)\n",
    "class karyawan(pegawai):\n",
    "    pass\n",
    "    \n",
    "\n",
    "orang=orang('Fitri Dhea')\n",
    "orang.printnama()\n",
    "\n",
    "mahasiswa=mahasiswa('1704111100014',17)\n",
    "mahasiswa.printname()\n",
    "mahasiswa.printNIM()\n",
    "mahasiswa.htgsemester()\n",
    "\n",
    "pegawai=pegawai('140411100006')\n",
    "pegawai.printname()\n",
    "pegawai.printNIP()\n",
    "\n",
    "dosen=dosen('12345678')\n",
    "dosen.printname()\n",
    "dosen.printNIP()\n",
    "dosen.printnidn()\n",
    "\n",
    "karyawan=karyawan('1234567890')\n",
    "karyawan.printname()\n",
    "karyawan.printNIP()"
   ]
  },
  {
   "cell_type": "markdown",
   "metadata": {},
   "source": [
    "# Multiple Inheritance\n",
    "memiliki dua atau lebih parent class, mewarisi semua properti"
   ]
  },
  {
   "cell_type": "code",
   "execution_count": null,
   "metadata": {},
   "outputs": [
    {
     "name": "stdout",
     "output_type": "stream",
     "text": [
      "nama : fitri\n",
      "npm : 170411100014\n",
      "nilai\n",
      "match : 90\n",
      "biology : 80\n"
     ]
    }
   ],
   "source": [
    "class person:\n",
    "    def __init__(self):\n",
    "        self.name = input(\"nama : \")\n",
    "    def display(self):\n",
    "        print(\"\\n\\nNama : \",self.name)\n",
    "        \n",
    "class marks:\n",
    "    def __init__(self):\n",
    "        self.npm = input(\"npm : \")\n",
    "        print (\"nilai\")\n",
    "        self.match = int(input(\"match : \"))\n",
    "        self.biology = int(input(\"biology : \"))\n",
    "    def display(self):\n",
    "        print (\"npm : \", self.npm)\n",
    "        print (\"nilai : \", self.match + self.biology)\n",
    "    \n",
    "class student (person,marks):\n",
    "    def __init__(self):\n",
    "        person. __init__ (self)\n",
    "        marks. __init__ (self)\n",
    "        \n",
    "    def result (self):\n",
    "        person.display (self)\n",
    "        marks.display (self)\n",
    "\n",
    "stu1 = student ()\n",
    "stu2 = student ()\n",
    "stu1 = result ()\n",
    "stu2 = result ()  "
   ]
  },
  {
   "cell_type": "raw",
   "metadata": {},
   "source": [
    "Latihan :\n",
    "program untuk membuat kelas bilangan, property dari kelas tersebut adalah bilangan 1 dan bilangan 2, Method dari kelas tersebut adalah pengurangan, penjumlahan, perkalian dan pembagian kedua bilangan tersebut. Implementasikan program ini"
   ]
  },
  {
   "cell_type": "code",
   "execution_count": 1,
   "metadata": {},
   "outputs": [
    {
     "name": "stdout",
     "output_type": "stream",
     "text": [
      "hasil operasi penjumlahan =  15\n",
      "hasil operasi penjumlahan =  5\n",
      "hasil operasi penjumlahan =  50\n",
      "hasil operasi penjumlahan =  2.0\n"
     ]
    }
   ],
   "source": [
    "class bilangan:\n",
    "    def __init__(self,bil1,bil2):\n",
    "        self.bilangan1 = bil1\n",
    "        self.bilangan2 = bil2\n",
    "    def penjumlahan(self):\n",
    "        print (\"hasil operasi penjumlahan = \",self.bilangan1+self.bilangan2)\n",
    "    def pengurangan(self):\n",
    "        print (\"hasil operasi penjumlahan = \",self.bilangan1-self.bilangan2)\n",
    "    def perkalian(self):\n",
    "        print(\"hasil operasi penjumlahan = \",self.bilangan1*self.bilangan2)\n",
    "    def pembagian(self):\n",
    "        print(\"hasil operasi penjumlahan = \",self.bilangan1/self.bilangan2)\n",
    "a=bilangan(10,5)\n",
    "a.penjumlahan()\n",
    "a.pengurangan()\n",
    "a.perkalian()\n",
    "a.pembagian()"
   ]
  },
  {
   "cell_type": "raw",
   "metadata": {},
   "source": [
    "Latihan : \n",
    "Kelas Lingkaran, dengan atribut jari-jari dan method menampilkan jari2, menghitung luaspermukaan (yaitu luas lingkaran tersebut), dan keliling lingkaran. Buatlah kelas tabung (merupakan sub kelas dari lingkaran), dengan atribut tambahan tinggi tabung dan method luaspermukaan(yaitu luas permukaan tabung). Buatlah konsep Superlass dan Overriding untuk luas permukaan."
   ]
  },
  {
   "cell_type": "code",
   "execution_count": 2,
   "metadata": {},
   "outputs": [
    {
     "name": "stdout",
     "output_type": "stream",
     "text": [
      "masukkan jari-jari = 5\n",
      "luas lingkaran =  78.5\n",
      "keliling lingkaran =  31.400000000000002\n",
      "masukkan tinggi tabung = 10\n",
      "masukkan jari-jari = 5\n",
      "luas permukaan tabung =  471.00000000000006\n"
     ]
    }
   ],
   "source": [
    "class lingkaran:\n",
    "    def __init__(self):\n",
    "        self.r=int(input(\"masukkan jari-jari = \"))\n",
    "    def luaslingkaran(self):\n",
    "        phi=3.14\n",
    "        luas=phi*self.r**2\n",
    "        print(\"luas lingkaran = \",luas)\n",
    "    def keliling(self):\n",
    "        phi=3.14\n",
    "        kel=2*phi*self.r\n",
    "        print(\"keliling lingkaran = \",kel)\n",
    "        \n",
    "class tabung(lingkaran):\n",
    "    def __init__(self):\n",
    "        self.tinggi=int(input(\"masukkan tinggi tabung = \"))\n",
    "        super().__init__()\n",
    "    def luaspermukaan(self):\n",
    "        phi=3.14\n",
    "        luas=2*phi*self.r*(self.r+self.tinggi)\n",
    "        print(\"luas permukaan tabung = \",luas)\n",
    "        \n",
    "a=lingkaran()\n",
    "a.luaslingkaran()\n",
    "a.keliling()\n",
    "b=tabung()\n",
    "b.luaspermukaan()"
   ]
  },
  {
   "cell_type": "raw",
   "metadata": {},
   "source": [
    "Latihan :\n",
    "kelas pegawai (nama dan idpegawai) dan kelas toko (nama dan lokasi). Buatlah konsep dari multiple kelas tersebut(pegawai dan toko) yaitu kelas penempatan yang menampilkan nama pegawai dengan penempatan lokasi kerjanya di toko apa"
   ]
  },
  {
   "cell_type": "code",
   "execution_count": 3,
   "metadata": {},
   "outputs": [
    {
     "name": "stdout",
     "output_type": "stream",
     "text": [
      "masukkan nama anda fitri\n",
      "masukkan ID anda 1234567\n",
      "masukkan lokasi toko Bangkalan\n",
      "masukkan nama toko Fifa\n",
      "Nama Pegawai :  fitri \n",
      "ID Pegawai :  1234567\n",
      "Toko tujuan :  Bangkalan \n",
      "Nama toko tujuan :  Fifa\n"
     ]
    }
   ],
   "source": [
    "class pegawai():\n",
    "    def __init__(self):\n",
    "        self.nm=input(\"masukkan nama anda \")\n",
    "        self.ip=int(input(\"masukkan ID anda \"))\n",
    "    def display(self):\n",
    "        print(\"Nama Pegawai : \",self.nm, \"\\nID Pegawai : \",self.ip)\n",
    "class toko():\n",
    "    def __init__(self):\n",
    "        self.lk=input(\"masukkan lokasi toko \")\n",
    "        self.nt=input(\"masukkan nama toko \")\n",
    "    def display(self):\n",
    "        print(\"Toko tujuan : \",self.lk, \"\\nNama toko tujuan : \",self.nt)\n",
    "class penempatan(pegawai,toko):\n",
    "    def __init__(self):\n",
    "        pegawai. __init__(self)\n",
    "        toko. __init__(self)\n",
    "    def result(self):\n",
    "        pegawai.display(self)\n",
    "        toko.display(self)\n",
    "        \n",
    "a=penempatan()\n",
    "a.result()"
   ]
  },
  {
   "cell_type": "markdown",
   "metadata": {},
   "source": [
    "# Polymorphism"
   ]
  },
  {
   "cell_type": "raw",
   "metadata": {},
   "source": [
    "Polymorphism adalah suatu objek dapat memiliki berbagai bentuk, sebagai objek dari class sendiri atau objek dari superclassnya (memiliki method yang sama namun tidak dari class yang sama) Polymorphism with class method, Polymorphism with a class abstrak class : dokumen class\n",
    "Polymorphism merupakan konsep yang memungkinkan digunakannya suatu interface yang sama untuk memerintah suatu object agar melakukan suatu tindakan yang mungkin secara prinsip sama tetapi secara proses berbeda."
   ]
  },
  {
   "cell_type": "code",
   "execution_count": 4,
   "metadata": {},
   "outputs": [
    {
     "name": "stdout",
     "output_type": "stream",
     "text": [
      "The shark's skeleton is of cartilage\n",
      "The clownfish's skeleton is made of bone\n"
     ]
    }
   ],
   "source": [
    "class shark():\n",
    "    def swim(self):\n",
    "        print(\"The shark is swimming.\")\n",
    "    def swim_backwards(self):\n",
    "        print(\"The shark cannot swim backwards, but can sik backwards.\")\n",
    "    def skeleton(self):\n",
    "        print (\"The shark's skeleton is of cartilage\")\n",
    "        \n",
    "class clownfish():\n",
    "    def swim(self):\n",
    "        print(\"The clownfish is swimming\")\n",
    "    def swim_backwards(self):\n",
    "        print(\"The clownfish can swim backwards\")\n",
    "    def skeleton(self):\n",
    "        print(\"The clownfish's skeleton is made of bone\")\n",
    "        \n",
    "sammy=shark()\n",
    "sammy.skeleton()\n",
    "\n",
    "casey=clownfish()\n",
    "casey.skeleton()"
   ]
  },
  {
   "cell_type": "code",
   "execution_count": 5,
   "metadata": {},
   "outputs": [
    {
     "name": "stdout",
     "output_type": "stream",
     "text": [
      "The shark is swimming.\n",
      "The clownfish is swimming\n",
      "The shark is swimming.\n",
      "The shark cannot swim backwards, but can sik backwards.\n",
      "The shark's skeleton is of cartilage\n",
      "The clownfish is swimming\n",
      "The clownfish can swim backwards\n",
      "The clownfish's skeleton is made of bone\n",
      "The shark's skeleton is of cartilage\n",
      "The clownfish's skeleton is made of bone\n"
     ]
    }
   ],
   "source": [
    "def in_the_pasific(fish):\n",
    "    fish.swim()\n",
    "\n",
    "sammy=shark()\n",
    "casey=clownfish()\n",
    "\n",
    "in_the_pasific(sammy)\n",
    "in_the_pasific(casey)\n",
    "\n",
    "#wiht function \n",
    "\n",
    "sammy=shark()\n",
    "casey=clownfish()\n",
    "\n",
    "for fish in (sammy,casey):\n",
    "    fish.swim()\n",
    "    fish.swim_backwards()\n",
    "    fish.skeleton()\n",
    "\n",
    "#with method\n",
    "\n",
    "sammy=shark()\n",
    "sammy.skeleton()\n",
    "    \n",
    "casey=clownfish()\n",
    "casey.skeleton()"
   ]
  },
  {
   "cell_type": "code",
   "execution_count": 6,
   "metadata": {},
   "outputs": [
    {
     "name": "stdout",
     "output_type": "stream",
     "text": [
      "Show pdf contents!\n"
     ]
    }
   ],
   "source": [
    "#abstrak class\n",
    "class dokument:\n",
    "    def __init__(self,name):\n",
    "        self.name=name\n",
    "    def show(self):\n",
    "        raise NotImplementedError (\"Subclass must implement abstract method\")\n",
    "        \n",
    "class show():\n",
    "    def show(self):\n",
    "        print (\"Show pdf contents!\")\n",
    "    \n",
    "a=dokument(\"fitri\")\n",
    "\n",
    "b=show()\n",
    "b.show()"
   ]
  },
  {
   "cell_type": "code",
   "execution_count": 10,
   "metadata": {},
   "outputs": [
    {
     "name": "stdout",
     "output_type": "stream",
     "text": [
      "woork\n",
      "hooooowll\n"
     ]
    }
   ],
   "source": [
    "class Srigala:\n",
    "    def gonggong(self):\n",
    "        print (\"hooooowll\")\n",
    " \n",
    "class Anjing:\n",
    "    def gonggong(self):\n",
    "        print (\"woork\")\n",
    " \n",
    "    def suara(hewan):\n",
    "        hewan.gonggong()\n",
    " \n",
    "dog = Anjing()\n",
    "wolf = Srigala()\n",
    "dog.suara()\n",
    "wolf.gonggong()"
   ]
  },
  {
   "cell_type": "markdown",
   "metadata": {},
   "source": [
    "Berikut ini gabungan antara Inheritance dan Polymorphism :"
   ]
  },
  {
   "cell_type": "code",
   "execution_count": 11,
   "metadata": {},
   "outputs": [
    {
     "name": "stdout",
     "output_type": "stream",
     "text": [
      "Suara gonggongan hewan\n",
      "Suara Anjing yaitu woork\n",
      "Suara gonggongan hewan\n",
      "Suara Serigala yaitu hooooowll\n",
      "Suara Singa yaitu Roaaarsss\n"
     ]
    }
   ],
   "source": [
    "class Hewan(object):\n",
    "    def __init__(self, nama):\n",
    "        self.nama = nama\n",
    " \n",
    "    def gonggong(self):\n",
    "        print ('Suara gonggongan hewan')\n",
    " \n",
    "class Anjing(Hewan):\n",
    "    def gonggong(self):\n",
    "        super(Anjing, self).gonggong()\n",
    "        return (\"woork\")\n",
    " \n",
    "class Srigala(Hewan):\n",
    "    def gonggong(self):\n",
    "        Hewan.gonggong(self)\n",
    "        return (\"hooooowll\")\n",
    " \n",
    "class Singa(Hewan):\n",
    "    def gonggong(self):\n",
    "       return (\"Roaaarsss\")\n",
    " \n",
    "dog = Anjing('Anjing')\n",
    "wolf = Srigala('Serigala')\n",
    "lion = Singa('Singa')\n",
    " \n",
    "print ('Suara ' + dog.nama + ' yaitu ' + dog.gonggong())\n",
    "print ('Suara ' + wolf.nama + ' yaitu ' + wolf.gonggong())\n",
    "print ('Suara ' + lion.nama + ' yaitu ' + lion.gonggong())"
   ]
  },
  {
   "cell_type": "markdown",
   "metadata": {},
   "source": [
    "# Overloading"
   ]
  },
  {
   "cell_type": "markdown",
   "metadata": {},
   "source": [
    "perbedaan overloading dan overriding : metdod overloading operatornya yang banyak bentuk methot overloading : sebuah method dengan sebuah cara (method sama namun pemanggilan berbeda)"
   ]
  },
  {
   "cell_type": "code",
   "execution_count": 12,
   "metadata": {},
   "outputs": [
    {
     "name": "stdout",
     "output_type": "stream",
     "text": [
      "6/8\n",
      "2/4\n"
     ]
    }
   ],
   "source": [
    "class fraction:\n",
    "    def __init__(self,top,bottom):\n",
    "        self.num = top\n",
    "        self.den = bottom\n",
    "        \n",
    "    def show(self):\n",
    "        print(self.num, \"/\", self.den)\n",
    "    \n",
    "    def __str__(self):\n",
    "        return str(self.num)+\"/\"+str(self.den)\n",
    "    \n",
    "    def __add__(self,otherfruction):\n",
    "        newnum = self.num*otherfruction.den+self.den*otherfruction.num\n",
    "        newden = self.den*otherfruction.den\n",
    "        \n",
    "        return fraction(newnum,newden)\n",
    "\n",
    "f1 = fraction(1,4)\n",
    "f2 = fraction (1,2)\n",
    "print(f1+f2)\n",
    "\n",
    "f = fraction(2,4)\n",
    "print(f)\n"
   ]
  },
  {
   "cell_type": "code",
   "execution_count": 13,
   "metadata": {},
   "outputs": [
    {
     "name": "stdout",
     "output_type": "stream",
     "text": [
      "point object is at: (3,1)\n",
      "point object is at: (3,1)\n"
     ]
    }
   ],
   "source": [
    "class point:\n",
    "    def __init__(self,x=0,y=0):\n",
    "        self.x=x\n",
    "        self.y=y\n",
    "    \n",
    "    #def __str__(self):\n",
    "        #return \"({0},{1})\".format(self.x, self.y)\n",
    "    def __str__(self):\n",
    "        return \"point object is at: (\" + str(self.x) + \",\" + str(self.y) + \")\"\n",
    "    \n",
    "    def __add__(self,other):\n",
    "        x = self.x - other.x\n",
    "        y = self.y - other.y\n",
    "        return point (x,y)\n",
    "\n",
    "p1 = point(2,3)\n",
    "p2 = point(-1,2)\n",
    "print(p1+p2)\n",
    "print (p1.__add__(p2))"
   ]
  },
  {
   "cell_type": "code",
   "execution_count": 14,
   "metadata": {},
   "outputs": [
    {
     "name": "stdout",
     "output_type": "stream",
     "text": [
      "HelloGuido\n"
     ]
    }
   ],
   "source": [
    "class Human:\n",
    "    def sayHello(self, name=None):\n",
    "        if name is not None:\n",
    "            print(\"Hello\" + name)\n",
    "        else:\n",
    "            print(\"Hello\")\n",
    "            \n",
    "#create instance\n",
    "obj = Human()\n",
    "\n",
    "#call the method\n",
    "obj.sayHello\n",
    "\n",
    "#call the method with a parameter\n",
    "obj.sayHello(\"Guido\")"
   ]
  },
  {
   "cell_type": "markdown",
   "metadata": {},
   "source": [
    "# Encapsulation"
   ]
  },
  {
   "cell_type": "markdown",
   "metadata": {},
   "source": [
    "1. Encapsulation adalah pembungkusan attribut/properti (field atau variable) dan tingkah laku (method) di dalam sebuah kelas untuk menyembunyikan nya dari kelas lain, sehingga kelas lain tidak dapat mengakses atribut dan method yang disembunyikan di dalam kelas yang lainnya\n",
    "2. Di dalam sebuah class terdapat atribut dan method yang memiliki hak akses tertentu terhadap environment/lingkungan-nya, hak akses ini biasa di sebut Access Modifier.\n",
    "3. dengan enkapsulasi kita bisa menyembunyikan informasi-informasi yang tidak perlu diketahui oleh object lain.\n",
    "4. Dua hal yang mendasar dalam enkapsulasi yakni :\n",
    "    - Information hiding : \n",
    "        Sebelumnya kita dapat mengakses anggota class baik berupa atribut maupun method secara langsung dengan menggunakan objek yang telah kita buat. Hal ini dikarenakan akses kontrol yang diberikan kepada atribut maupun method yang ada di dalam class tersebut adalah ‘public’. Kita dapat menyembunyikan informasi dari suatu class sehingga anggota class tersebut tidak dapat diakses dari luar, caranya adalah hanya dengan memberikan akses kontrol ‘private’ ketika mendeklarasikan atribut atau method. Proses ini disebut dengan information hiding.\n",
    "    - Interface to access data :\n",
    "        caranya adalah dengan membuat suatu interface berupa method untuk menginisialisasi atau merubah nilai dari suatu atribut tersebut.\n",
    "5. Konsep enkapsulasi sangat penting dilakukan untuk menjaga kebutuhan program agar dapat diakses sewaktu-waktu, sekaligus menjaga program tersebut. "
   ]
  },
  {
   "cell_type": "code",
   "execution_count": 1,
   "metadata": {},
   "outputs": [
    {
     "name": "stdout",
     "output_type": "stream",
     "text": [
      "updating software\n",
      "driving\n"
     ]
    }
   ],
   "source": [
    "class Car:\n",
    " \n",
    "    def __init__(self):\n",
    "        self.__updateSoftware()\n",
    " \n",
    "    def drive(self):\n",
    "        print ('driving')\n",
    " \n",
    "    def __updateSoftware(self):\n",
    "        print ('updating software')\n",
    " \n",
    "redcar = Car()\n",
    "redcar.drive()\n"
   ]
  },
  {
   "cell_type": "code",
   "execution_count": null,
   "metadata": {},
   "outputs": [],
   "source": []
  }
 ],
 "metadata": {
  "kernelspec": {
   "display_name": "Python 3",
   "language": "python",
   "name": "python3"
  },
  "language_info": {
   "codemirror_mode": {
    "name": "ipython",
    "version": 3
   },
   "file_extension": ".py",
   "mimetype": "text/x-python",
   "name": "python",
   "nbconvert_exporter": "python",
   "pygments_lexer": "ipython3",
   "version": "3.6.5"
  }
 },
 "nbformat": 4,
 "nbformat_minor": 2
}
